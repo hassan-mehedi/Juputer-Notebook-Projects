{
 "cells": [
  {
   "cell_type": "markdown",
   "id": "broadband-paper",
   "metadata": {},
   "source": [
    "### Importing all the important libraries, classifiers, regressors and other tools"
   ]
  },
  {
   "cell_type": "code",
   "execution_count": 1,
   "id": "subsequent-earthquake",
   "metadata": {},
   "outputs": [],
   "source": [
    "#importing numpy, pandas and matplot libraries:\n",
    "import numpy as np\n",
    "import matplotlib.pyplot as plt\n",
    "import pandas as pd\n",
    "\n",
    "#importing ml regressor\n",
    "from sklearn.ensemble import RandomForestRegressor\n",
    "\n",
    "#importing ml classifiers\n",
    "from sklearn.ensemble import RandomForestClassifier\n",
    "from sklearn.neighbors import KNeighborsClassifier\n",
    "from sklearn.neural_network import MLPClassifier\n",
    "\n",
    "#importing train_test_split from sklearn\n",
    "from sklearn.model_selection import train_test_split\n",
    "\n",
    "#importing oneHotEncoder and column transformer for converting text to numeric data and transforming the columns\n",
    "from sklearn.preprocessing import OneHotEncoder\n",
    "from sklearn.compose import ColumnTransformer"
   ]
  },
  {
   "cell_type": "markdown",
   "id": "addressed-meter",
   "metadata": {},
   "source": [
    "### Importing dataset for Regressor"
   ]
  },
  {
   "cell_type": "code",
   "execution_count": 2,
   "id": "declared-findings",
   "metadata": {
    "scrolled": true
   },
   "outputs": [
    {
     "data": {
      "text/html": [
       "<div>\n",
       "<style scoped>\n",
       "    .dataframe tbody tr th:only-of-type {\n",
       "        vertical-align: middle;\n",
       "    }\n",
       "\n",
       "    .dataframe tbody tr th {\n",
       "        vertical-align: top;\n",
       "    }\n",
       "\n",
       "    .dataframe thead th {\n",
       "        text-align: right;\n",
       "    }\n",
       "</style>\n",
       "<table border=\"1\" class=\"dataframe\">\n",
       "  <thead>\n",
       "    <tr style=\"text-align: right;\">\n",
       "      <th></th>\n",
       "      <th>Crop</th>\n",
       "      <th>State</th>\n",
       "      <th>Cost of Cultivation Per Hectare</th>\n",
       "      <th>Cost of Cultivation Per Hectare.1</th>\n",
       "      <th>Cost of Production Per Quintal</th>\n",
       "      <th>Yield</th>\n",
       "    </tr>\n",
       "  </thead>\n",
       "  <tbody>\n",
       "    <tr>\n",
       "      <th>0</th>\n",
       "      <td>ARHAR</td>\n",
       "      <td>Uttar Pradesh</td>\n",
       "      <td>9794.05</td>\n",
       "      <td>23076.74</td>\n",
       "      <td>1941.55</td>\n",
       "      <td>9.83</td>\n",
       "    </tr>\n",
       "    <tr>\n",
       "      <th>1</th>\n",
       "      <td>ARHAR</td>\n",
       "      <td>Karnataka</td>\n",
       "      <td>10593.15</td>\n",
       "      <td>16528.68</td>\n",
       "      <td>2172.46</td>\n",
       "      <td>7.47</td>\n",
       "    </tr>\n",
       "    <tr>\n",
       "      <th>2</th>\n",
       "      <td>ARHAR</td>\n",
       "      <td>Gujarat</td>\n",
       "      <td>13468.82</td>\n",
       "      <td>19551.90</td>\n",
       "      <td>1898.30</td>\n",
       "      <td>9.59</td>\n",
       "    </tr>\n",
       "    <tr>\n",
       "      <th>3</th>\n",
       "      <td>ARHAR</td>\n",
       "      <td>Andhra Pradesh</td>\n",
       "      <td>17051.66</td>\n",
       "      <td>24171.65</td>\n",
       "      <td>3670.54</td>\n",
       "      <td>6.42</td>\n",
       "    </tr>\n",
       "    <tr>\n",
       "      <th>4</th>\n",
       "      <td>ARHAR</td>\n",
       "      <td>Maharashtra</td>\n",
       "      <td>17130.55</td>\n",
       "      <td>25270.26</td>\n",
       "      <td>2775.80</td>\n",
       "      <td>8.72</td>\n",
       "    </tr>\n",
       "  </tbody>\n",
       "</table>\n",
       "</div>"
      ],
      "text/plain": [
       "    Crop           State  Cost of Cultivation Per Hectare  \\\n",
       "0  ARHAR   Uttar Pradesh                          9794.05   \n",
       "1  ARHAR       Karnataka                         10593.15   \n",
       "2  ARHAR         Gujarat                         13468.82   \n",
       "3  ARHAR  Andhra Pradesh                         17051.66   \n",
       "4  ARHAR     Maharashtra                         17130.55   \n",
       "\n",
       "   Cost of Cultivation Per Hectare.1  Cost of Production Per Quintal  Yield   \n",
       "0                           23076.74                         1941.55    9.83  \n",
       "1                           16528.68                         2172.46    7.47  \n",
       "2                           19551.90                         1898.30    9.59  \n",
       "3                           24171.65                         3670.54    6.42  \n",
       "4                           25270.26                         2775.80    8.72  "
      ]
     },
     "execution_count": 2,
     "metadata": {},
     "output_type": "execute_result"
    }
   ],
   "source": [
    "#importing dataset, this dataset is about crop yield in india\n",
    "ag_df = pd.read_csv(\"data/crop_yield.csv\")\n",
    "ag_df.head()"
   ]
  },
  {
   "cell_type": "markdown",
   "id": "fatal-alarm",
   "metadata": {},
   "source": [
    "### Importing dataset for classifiers"
   ]
  },
  {
   "cell_type": "code",
   "execution_count": 3,
   "id": "expanded-impossible",
   "metadata": {},
   "outputs": [
    {
     "data": {
      "text/html": [
       "<div>\n",
       "<style scoped>\n",
       "    .dataframe tbody tr th:only-of-type {\n",
       "        vertical-align: middle;\n",
       "    }\n",
       "\n",
       "    .dataframe tbody tr th {\n",
       "        vertical-align: top;\n",
       "    }\n",
       "\n",
       "    .dataframe thead th {\n",
       "        text-align: right;\n",
       "    }\n",
       "</style>\n",
       "<table border=\"1\" class=\"dataframe\">\n",
       "  <thead>\n",
       "    <tr style=\"text-align: right;\">\n",
       "      <th></th>\n",
       "      <th>age</th>\n",
       "      <th>sex</th>\n",
       "      <th>cp</th>\n",
       "      <th>trestbps</th>\n",
       "      <th>chol</th>\n",
       "      <th>fbs</th>\n",
       "      <th>restecg</th>\n",
       "      <th>thalach</th>\n",
       "      <th>exang</th>\n",
       "      <th>oldpeak</th>\n",
       "      <th>slope</th>\n",
       "      <th>ca</th>\n",
       "      <th>thal</th>\n",
       "      <th>target</th>\n",
       "    </tr>\n",
       "  </thead>\n",
       "  <tbody>\n",
       "    <tr>\n",
       "      <th>0</th>\n",
       "      <td>63</td>\n",
       "      <td>1</td>\n",
       "      <td>3</td>\n",
       "      <td>145</td>\n",
       "      <td>233</td>\n",
       "      <td>1</td>\n",
       "      <td>0</td>\n",
       "      <td>150</td>\n",
       "      <td>0</td>\n",
       "      <td>2.3</td>\n",
       "      <td>0</td>\n",
       "      <td>0</td>\n",
       "      <td>1</td>\n",
       "      <td>1</td>\n",
       "    </tr>\n",
       "    <tr>\n",
       "      <th>1</th>\n",
       "      <td>37</td>\n",
       "      <td>1</td>\n",
       "      <td>2</td>\n",
       "      <td>130</td>\n",
       "      <td>250</td>\n",
       "      <td>0</td>\n",
       "      <td>1</td>\n",
       "      <td>187</td>\n",
       "      <td>0</td>\n",
       "      <td>3.5</td>\n",
       "      <td>0</td>\n",
       "      <td>0</td>\n",
       "      <td>2</td>\n",
       "      <td>1</td>\n",
       "    </tr>\n",
       "    <tr>\n",
       "      <th>2</th>\n",
       "      <td>41</td>\n",
       "      <td>0</td>\n",
       "      <td>1</td>\n",
       "      <td>130</td>\n",
       "      <td>204</td>\n",
       "      <td>0</td>\n",
       "      <td>0</td>\n",
       "      <td>172</td>\n",
       "      <td>0</td>\n",
       "      <td>1.4</td>\n",
       "      <td>2</td>\n",
       "      <td>0</td>\n",
       "      <td>2</td>\n",
       "      <td>1</td>\n",
       "    </tr>\n",
       "    <tr>\n",
       "      <th>3</th>\n",
       "      <td>56</td>\n",
       "      <td>1</td>\n",
       "      <td>1</td>\n",
       "      <td>120</td>\n",
       "      <td>236</td>\n",
       "      <td>0</td>\n",
       "      <td>1</td>\n",
       "      <td>178</td>\n",
       "      <td>0</td>\n",
       "      <td>0.8</td>\n",
       "      <td>2</td>\n",
       "      <td>0</td>\n",
       "      <td>2</td>\n",
       "      <td>1</td>\n",
       "    </tr>\n",
       "    <tr>\n",
       "      <th>4</th>\n",
       "      <td>57</td>\n",
       "      <td>0</td>\n",
       "      <td>0</td>\n",
       "      <td>120</td>\n",
       "      <td>354</td>\n",
       "      <td>0</td>\n",
       "      <td>1</td>\n",
       "      <td>163</td>\n",
       "      <td>1</td>\n",
       "      <td>0.6</td>\n",
       "      <td>2</td>\n",
       "      <td>0</td>\n",
       "      <td>2</td>\n",
       "      <td>1</td>\n",
       "    </tr>\n",
       "  </tbody>\n",
       "</table>\n",
       "</div>"
      ],
      "text/plain": [
       "   age  sex  cp  trestbps  chol  fbs  restecg  thalach  exang  oldpeak  slope  \\\n",
       "0   63    1   3       145   233    1        0      150      0      2.3      0   \n",
       "1   37    1   2       130   250    0        1      187      0      3.5      0   \n",
       "2   41    0   1       130   204    0        0      172      0      1.4      2   \n",
       "3   56    1   1       120   236    0        1      178      0      0.8      2   \n",
       "4   57    0   0       120   354    0        1      163      1      0.6      2   \n",
       "\n",
       "   ca  thal  target  \n",
       "0   0     1       1  \n",
       "1   0     2       1  \n",
       "2   0     2       1  \n",
       "3   0     2       1  \n",
       "4   0     2       1  "
      ]
     },
     "execution_count": 3,
     "metadata": {},
     "output_type": "execute_result"
    }
   ],
   "source": [
    "#importing dataset, this dataset is about heart-disease\n",
    "heart_disease = pd.read_csv(\"data/heart-disease.csv\")\n",
    "heart_disease.head()"
   ]
  },
  {
   "cell_type": "markdown",
   "id": "dramatic-destruction",
   "metadata": {},
   "source": [
    "### Dividing feature data and target data for regressor"
   ]
  },
  {
   "cell_type": "code",
   "execution_count": 4,
   "id": "ceramic-possession",
   "metadata": {},
   "outputs": [],
   "source": [
    "#Dividing feature data and target data\n",
    "X = ag_df.drop(\"Yield \", axis=1)\n",
    "y = ag_df[\"Yield \"]"
   ]
  },
  {
   "cell_type": "markdown",
   "id": "nearby-fundamentals",
   "metadata": {},
   "source": [
    "### Dividing feature data and target data for classifiers"
   ]
  },
  {
   "cell_type": "code",
   "execution_count": 5,
   "id": "exposed-liberty",
   "metadata": {},
   "outputs": [],
   "source": [
    "#Dividing feature data and target data\n",
    "Xh = heart_disease.drop(\"target\", axis=1)\n",
    "yh = heart_disease[\"target\"]"
   ]
  },
  {
   "cell_type": "markdown",
   "id": "interior-demographic",
   "metadata": {},
   "source": [
    "### Converting text to number"
   ]
  },
  {
   "cell_type": "code",
   "execution_count": 6,
   "id": "juvenile-gravity",
   "metadata": {},
   "outputs": [],
   "source": [
    "#transforming our dataframe cells which have text values, converting them to numbers\n",
    "categorical_features = [\"Crop\", \"State\"]\n",
    "one_hot = OneHotEncoder()\n",
    "transformer = ColumnTransformer([(\"one_hot\",\n",
    "                                   one_hot,\n",
    "                                   categorical_features)],\n",
    "                                   remainder=\"passthrough\")\n",
    "\n",
    "transformed_X = transformer.fit_transform(X)"
   ]
  },
  {
   "cell_type": "markdown",
   "id": "seventh-conference",
   "metadata": {},
   "source": [
    "### Creating training and test data for Regressor"
   ]
  },
  {
   "cell_type": "code",
   "execution_count": 7,
   "id": "essential-fantasy",
   "metadata": {},
   "outputs": [],
   "source": [
    "#Creating train data and test data\n",
    "X_train, X_test, y_train, y_test = train_test_split(transformed_X, y, test_size=0.2)"
   ]
  },
  {
   "cell_type": "markdown",
   "id": "exceptional-spirit",
   "metadata": {},
   "source": [
    "### Creating training and test data for Classifiers"
   ]
  },
  {
   "cell_type": "code",
   "execution_count": 8,
   "id": "personal-tattoo",
   "metadata": {},
   "outputs": [],
   "source": [
    "#Creating train data and test data\n",
    "Xh_train, Xh_test, yh_train, yh_test = train_test_split(Xh, yh, test_size=0.2)"
   ]
  },
  {
   "cell_type": "markdown",
   "id": "typical-conversation",
   "metadata": {},
   "source": [
    "### RandomForest Regressor Accuracy"
   ]
  },
  {
   "cell_type": "code",
   "execution_count": 9,
   "id": "prescription-retrieval",
   "metadata": {},
   "outputs": [
    {
     "data": {
      "text/plain": [
       "0.9558985932581512"
      ]
     },
     "execution_count": 9,
     "metadata": {},
     "output_type": "execute_result"
    }
   ],
   "source": [
    "#Creating Random forest Regressor model and getting accuracy\n",
    "np.random.seed(1)\n",
    "\n",
    "#fitting data into model\n",
    "rfr_model = RandomForestRegressor()\n",
    "rfr_model.fit(X_train, y_train)\n",
    "\n",
    "#getting model score on test data\n",
    "rfr_accuracy = rfr_model.score(X_test, y_test) \n",
    "rfr_accuracy "
   ]
  },
  {
   "cell_type": "markdown",
   "id": "retained-sharp",
   "metadata": {},
   "source": [
    "### Prediction time for RandomForest Regressor"
   ]
  },
  {
   "cell_type": "code",
   "execution_count": 21,
   "id": "viral-childhood",
   "metadata": {
    "scrolled": false
   },
   "outputs": [
    {
     "name": "stdout",
     "output_type": "stream",
     "text": [
      "5.94 ms ± 231 µs per loop (mean ± std. dev. of 7 runs, 100 loops each)\n"
     ]
    }
   ],
   "source": [
    "#calculating time it takes to calculate the accuracy for given dataset \n",
    "res = %timeit -o rfr_model.predict(X_test)"
   ]
  },
  {
   "cell_type": "markdown",
   "id": "nuclear-remove",
   "metadata": {},
   "source": [
    "### Random Forest Classifier Accuracy"
   ]
  },
  {
   "cell_type": "code",
   "execution_count": 11,
   "id": "boring-voluntary",
   "metadata": {},
   "outputs": [
    {
     "data": {
      "text/plain": [
       "0.819672131147541"
      ]
     },
     "execution_count": 11,
     "metadata": {},
     "output_type": "execute_result"
    }
   ],
   "source": [
    "#Creating Random forest Classifier model and getting accuracy\n",
    "np.random.seed(1)\n",
    "\n",
    "#fitting data into model\n",
    "rfc_model = RandomForestClassifier()\n",
    "rfc_model.fit(Xh_train, yh_train)\n",
    "\n",
    "#getting model score on test data\n",
    "rfc_accuracy = rfc_model.score(Xh_test, yh_test) \n",
    "rfc_accuracy "
   ]
  },
  {
   "cell_type": "markdown",
   "id": "arctic-lloyd",
   "metadata": {},
   "source": [
    "### Prediction time for RandomForest Classifier"
   ]
  },
  {
   "cell_type": "code",
   "execution_count": 12,
   "id": "limited-library",
   "metadata": {},
   "outputs": [
    {
     "name": "stdout",
     "output_type": "stream",
     "text": [
      "8.49 ms ± 113 µs per loop (mean ± std. dev. of 7 runs, 100 loops each)\n"
     ]
    }
   ],
   "source": [
    "#calculating time it takes to calculate the accuracy for given dataset \n",
    "%timeit rfc_model.predict(Xh_test)"
   ]
  },
  {
   "cell_type": "markdown",
   "id": "divided-moment",
   "metadata": {},
   "source": [
    "### KNeighbors Classifier Accuracy"
   ]
  },
  {
   "cell_type": "code",
   "execution_count": 13,
   "id": "fifth-meter",
   "metadata": {},
   "outputs": [
    {
     "data": {
      "text/plain": [
       "0.7049180327868853"
      ]
     },
     "execution_count": 13,
     "metadata": {},
     "output_type": "execute_result"
    }
   ],
   "source": [
    "#Creating Random forest Classifier model and getting accuracy\n",
    "np.random.seed(1)\n",
    "\n",
    "#fitting data into model\n",
    "knc_model = KNeighborsClassifier()\n",
    "knc_model.fit(Xh_train, yh_train)\n",
    "\n",
    "#getting model score on test data\n",
    "knc_accuracy = knc_model.score(Xh_test, yh_test) \n",
    "knc_accuracy "
   ]
  },
  {
   "cell_type": "markdown",
   "id": "exact-division",
   "metadata": {},
   "source": [
    "### Prediction time for KNeighbors Classifier"
   ]
  },
  {
   "cell_type": "code",
   "execution_count": 14,
   "id": "extra-amazon",
   "metadata": {},
   "outputs": [
    {
     "name": "stdout",
     "output_type": "stream",
     "text": [
      "3.1 ms ± 23.1 µs per loop (mean ± std. dev. of 7 runs, 100 loops each)\n"
     ]
    }
   ],
   "source": [
    "#calculating time it takes to calculate the accuracy for given dataset \n",
    "%timeit knc_model.predict(Xh_test)"
   ]
  },
  {
   "cell_type": "markdown",
   "id": "integrated-attitude",
   "metadata": {},
   "source": [
    "### MLP (Neural Netword) Classifier Accuracy"
   ]
  },
  {
   "cell_type": "code",
   "execution_count": 26,
   "id": "caroline-stockholm",
   "metadata": {},
   "outputs": [
    {
     "data": {
      "text/plain": [
       "0.819672131147541"
      ]
     },
     "execution_count": 26,
     "metadata": {},
     "output_type": "execute_result"
    }
   ],
   "source": [
    "#Creating Random forest Classifier model and getting accuracy\n",
    "np.random.seed(0)\n",
    "\n",
    "#fitting data into model\n",
    "mlp_model = MLPClassifier()\n",
    "mlp_model.fit(Xh_train, yh_train)\n",
    "\n",
    "#getting model score on test data\n",
    "mlp_accuracy = mlp_model.score(Xh_test, yh_test) \n",
    "mlp_accuracy "
   ]
  },
  {
   "cell_type": "markdown",
   "id": "useful-catch",
   "metadata": {},
   "source": [
    "#### Prediction time for MLP Classifier"
   ]
  },
  {
   "cell_type": "code",
   "execution_count": 16,
   "id": "under-cruise",
   "metadata": {},
   "outputs": [
    {
     "name": "stdout",
     "output_type": "stream",
     "text": [
      "1.28 ms ± 12.9 µs per loop (mean ± std. dev. of 7 runs, 1000 loops each)\n"
     ]
    }
   ],
   "source": [
    "#calculating time it takes to calculate the accuracy for given dataset \n",
    "%timeit mlp_model.predict(Xh_test)"
   ]
  },
  {
   "cell_type": "code",
   "execution_count": 17,
   "id": "turned-basin",
   "metadata": {},
   "outputs": [
    {
     "data": {
      "text/plain": [
       "{'MLPClassifier': MLPClassifier(),\n",
       " 'KNeighborsClassifier': KNeighborsClassifier(),\n",
       " 'RandomForestClassifier': RandomForestClassifier()}"
      ]
     },
     "execution_count": 17,
     "metadata": {},
     "output_type": "execute_result"
    }
   ],
   "source": [
    "# Craeating two dictionary one to store the classifiers and the other to store the result\n",
    "models = {\"MLPClassifier\": MLPClassifier(),\n",
    "          \"KNeighborsClassifier\": KNeighborsClassifier(),\n",
    "          \"RandomForestClassifier\": RandomForestClassifier()}\n",
    "results = {}\n",
    "models"
   ]
  },
  {
   "cell_type": "code",
   "execution_count": 25,
   "id": "sophisticated-feelings",
   "metadata": {},
   "outputs": [
    {
     "data": {
      "text/plain": [
       "{'MLPClassifier': 0.819672131147541,\n",
       " 'KNeighborsClassifier': 0.7049180327868853,\n",
       " 'RandomForestClassifier': 0.819672131147541}"
      ]
     },
     "execution_count": 25,
     "metadata": {},
     "output_type": "execute_result"
    }
   ],
   "source": [
    "np.random.seed(0)\n",
    "\n",
    "for model_name, model in models.items():\n",
    "    model.fit(Xh_train, yh_train)\n",
    "    results[model_name] = model.score(Xh_test, yh_test)\n",
    "results"
   ]
  },
  {
   "cell_type": "code",
   "execution_count": 19,
   "id": "brief-germany",
   "metadata": {},
   "outputs": [
    {
     "data": {
      "text/html": [
       "<div>\n",
       "<style scoped>\n",
       "    .dataframe tbody tr th:only-of-type {\n",
       "        vertical-align: middle;\n",
       "    }\n",
       "\n",
       "    .dataframe tbody tr th {\n",
       "        vertical-align: top;\n",
       "    }\n",
       "\n",
       "    .dataframe thead th {\n",
       "        text-align: right;\n",
       "    }\n",
       "</style>\n",
       "<table border=\"1\" class=\"dataframe\">\n",
       "  <thead>\n",
       "    <tr style=\"text-align: right;\">\n",
       "      <th></th>\n",
       "      <th>Accuracy</th>\n",
       "    </tr>\n",
       "  </thead>\n",
       "  <tbody>\n",
       "    <tr>\n",
       "      <th>MLPClassifier</th>\n",
       "      <td>0.836066</td>\n",
       "    </tr>\n",
       "    <tr>\n",
       "      <th>KNeighborsClassifier</th>\n",
       "      <td>0.704918</td>\n",
       "    </tr>\n",
       "    <tr>\n",
       "      <th>RandomForestClassifier</th>\n",
       "      <td>0.836066</td>\n",
       "    </tr>\n",
       "  </tbody>\n",
       "</table>\n",
       "</div>"
      ],
      "text/plain": [
       "                        Accuracy\n",
       "MLPClassifier           0.836066\n",
       "KNeighborsClassifier    0.704918\n",
       "RandomForestClassifier  0.836066"
      ]
     },
     "execution_count": 19,
     "metadata": {},
     "output_type": "execute_result"
    }
   ],
   "source": [
    "df_results = pd.DataFrame(results.values(),\n",
    "                          results.keys(),\n",
    "                          columns=[\"Accuracy\"])\n",
    "df_results"
   ]
  },
  {
   "cell_type": "code",
   "execution_count": 20,
   "id": "russian-headline",
   "metadata": {},
   "outputs": [
    {
     "data": {
      "image/png": "[encoded data removed]",
      "text/plain": [
       "<Figure size 432x288 with 1 Axes>"
      ]
     },
     "metadata": {
      "needs_background": "light"
     },
     "output_type": "display_data"
    }
   ],
   "source": [
    "# Comparing the accuracy result\n",
    "df_results.plot.bar();"
   ]
  },
  {
   "cell_type": "code",
   "execution_count": null,
   "id": "floppy-moore",
   "metadata": {},
   "outputs": [],
   "source": []
  }
 ],
 "metadata": {
  "kernelspec": {
   "display_name": "Python 3",
   "language": "python",
   "name": "python3"
  },
  "language_info": {
   "codemirror_mode": {
    "name": "ipython",
    "version": 3
   },
   "file_extension": ".py",
   "mimetype": "text/x-python",
   "name": "python",
   "nbconvert_exporter": "python",
   "pygments_lexer": "ipython3",
   "version": "3.8.5"
  }
 },
 "nbformat": 4,
 "nbformat_minor": 5
}
